{
  "cells": [
    {
      "cell_type": "code",
      "execution_count": null,
      "metadata": {
        "id": "YXgX0NF8OMjJ"
      },
      "outputs": [],
      "source": [
        "#!pip install numpy\n",
        "#!pip install pandas"
      ]
    },
    {
      "cell_type": "code",
      "execution_count": null,
      "metadata": {
        "id": "3vbncErZOMjK"
      },
      "outputs": [],
      "source": [
        "import numpy as np\n",
        "import math\n",
        "\n",
        "# Implementation of a Node\n",
        "# A node should be able to take an input vector (which is either the input or the previous layer)\n",
        "# Sum the values from the previous node\n",
        "# Pass the sum to an activation value\n",
        "# Return the value as its own value\n",
        "\n",
        "class node(object):\n",
        "  def __init__(self, inputVec = [], weight = [], activation = None):\n",
        "    # Number of Inputs\n",
        "    self.inputVector = inputVec\n",
        "    self.nodeWeights = weight\n",
        "    self.actSelect = activation\n",
        "    self.bias = np.random.rand()\n",
        "\n",
        "    # Summation of Connected Notes\n",
        "    self.nodeSum = self.summationNodes()\n",
        "\n",
        "    # Activation function\n",
        "    self.nodeVal = self.activation()\n",
        "\n",
        "  # Parallelizable for all input values\n",
        "  def summationNodes(self):\n",
        "    sumOfVec = 0\n",
        "    for (i, j) in zip(self.inputVector, self.nodeWeights):\n",
        "        sumOfVec = sumOfVec + i * j\n",
        "    return (sumOfVec + self.bias)\n",
        "\n",
        "  def activation(self):\n",
        "    if (self.actSelect == \"sigmoid\"):\n",
        "      return (1 / (1 + pow(math.e, -self.nodeSum)))\n",
        "\n",
        "    if (self.actSelect == \"relu\"):\n",
        "      return (max(0.1*self.nodeSum, self.nodeSum))"
      ]
    },
    {
      "cell_type": "code",
      "execution_count": null,
      "metadata": {
        "id": "ix53YnD_OMjL"
      },
      "outputs": [],
      "source": [
        "# For the mutli-layer perceptron\n",
        "# We should first be able to store the input vector in an array\n",
        "# Create N (user-defined number) nodes\n",
        "# Allow users to add layers with custom nodes as a method of the class\n",
        "# The output node automatically implements\n",
        "\n",
        "class mlp(node):\n",
        "\n",
        "  def __init__ (self):\n",
        "\n",
        "    # We simulate the input layer here by storing each value\n",
        "    # in the input as an element of a vector\n",
        "    self.inputSize = None\n",
        "    self.outputClass = []\n",
        "    self.inputVector = [] # This is the vector we pass to the first hidden layer\n",
        "    self.outputVal = None\n",
        "    self.outputIndex = None\n",
        "\n",
        "  def activate(self, inputVector, numClass):\n",
        "\n",
        "    # We simulate the input layer here by storing each value\n",
        "    # in the input as an element of a vector\n",
        "    self.inputSize = len(inputVector)\n",
        "    self.outputClass = numClass\n",
        "    self.inputVector = inputVector # This is the vector we pass to the first hidden layer\n",
        "\n",
        "    # Simulate hidden later\n",
        "    layer1 = self.addLayer(numNodes = 10, prevLayer = self.inputVector)\n",
        "    layer2 = self.addLayer(numNodes = 10, prevLayer = layer1)\n",
        "    layer3 = self.addLayer(numNodes = 10, prevLayer = layer2)\n",
        "    layer4 = self.addLayer(numNodes = 5, prevLayer = layer3)\n",
        "    self.outputVal, self.outputIndex = self.outputLayer(layer4)\n",
        "\n",
        "  # This intendeds to simulate the hidden layers\n",
        "  def addLayer(self, numNodes = None, prevLayer = None):\n",
        "    #weights = [np.random.rand() for i in range(len(inputVector))]\n",
        "\n",
        "    if numNodes == None:\n",
        "      numNodes = self.inputSize\n",
        "\n",
        "    nextLayer = []\n",
        "    for i in range(numNodes):\n",
        "      # Create the nodes\n",
        "      nextLayer.append(node(self.inputVector, [np.random.rand() for j in range(len(self.inputVector))], activation='relu'))\n",
        "\n",
        "    outputValues = []\n",
        "    for i in nextLayer:\n",
        "      i.summationNodes()\n",
        "      i.activation()\n",
        "      outputValues.append(i.nodeVal)\n",
        "\n",
        "    return outputValues\n",
        "\n",
        "  def outputLayer(self, lastHidden):\n",
        "    outLayer = []\n",
        "    for i in range(self.outputClass):\n",
        "      outLayer.append(node(lastHidden, [np.random.rand() for j in range(len(self.inputVector))], activation='sigmoid'))\n",
        "\n",
        "    endVals = []\n",
        "    for i in range(self.outputClass):\n",
        "      endVals.append(outLayer[i].nodeVal)\n",
        "      #print(\"Class \", i, \" : \", outLayer[i].nodeVal)\n",
        "\n",
        "    return max(endVals), endVals.index(max(endVals))\n",
        "\n",
        "  def printResult(self):\n",
        "    print(\"Predicted Class: \", self. outputIndex)\n",
        "\n",
        "  def getPrediction(self):\n",
        "    return self.outputIndex"
      ]
    },
    {
      "cell_type": "code",
      "execution_count": null,
      "metadata": {
        "id": "hQLEddla7R7G"
      },
      "outputs": [],
      "source": [
        "class MLP():\n",
        "\n",
        "  def __init__ (self, tpb):\n",
        "    # We simulate the input layer here by storing each value\n",
        "    # in the input as an element of a vector\n",
        "    self.inputSize = None\n",
        "    self.outputClass = []\n",
        "    self.inputVector = [] # This is the vector we pass to the first hidden layer\n",
        "    self.outputVal = None\n",
        "    self.outputIndex = None\n",
        "    self.threads_per_block = tpb\n",
        "\n",
        "  def activate(self, inputVector, numClass):\n",
        "  # For now, this is just forward propagation\n",
        "\n",
        "    # We simulate the input layer here by storing each value\n",
        "    # in the input as an element of a vector\n",
        "    self.inputSize = len(inputVector)\n",
        "    self.outputClass = numClass\n",
        "    self.inputVector = inputVector # This is the vector we pass to the first hidden layer\n",
        "\n",
        "    # Simulate hidden later\n",
        "    layer1 = self.addLayer(numNodes = 10, prevLayer = self.inputVector, activation = \"relu\")\n",
        "    layer2 = self.addLayer(numNodes = 5, prevLayer = layer1, activation = \"relu\")\n",
        "    #print(layer4)\n",
        "\n",
        "    # Simulate output layer\n",
        "    self.outputIndex = self.outputLayer(layer2)\n",
        "\n",
        "  # This intendeds to simulate the hidden layers\n",
        "  def addLayer(self, numNodes = None, prevLayer = None, activation = None):\n",
        "\n",
        "    if numNodes == None:\n",
        "      print(\"Indicate number of Nodes.\")\n",
        "      return\n",
        "\n",
        "    # This will be where we store the new values\n",
        "    newLayer = cp.zeros(numNodes)\n",
        "\n",
        "    #activation_func(float* newLayer, const int choice)\n",
        "    if activation == \"sigmoid\":\n",
        "        activation = 1\n",
        "    elif activation == \"relu\":\n",
        "        activation = 2\n",
        "\n",
        "    for i in range(numNodes):\n",
        "    # add_kernel(grid_size, block_size, (x1, x2, y, size))\n",
        "    # nodeSum_kernel(const float* inputVector, const float* layerWeights, float* outputNode, const float* bias)\n",
        "      #print(\"Nodes: \", prevLayer)\n",
        "      weights = cp.array([cp.random.random() for i in range(len(prevLayer))])\n",
        "      #print(\"Weights: \", weights)\n",
        "      bias = cp.random.random()\n",
        "      #print(\"Bias: \", bias)\n",
        "\n",
        "      newLayer[i] = np.dot(cp.array(prevLayer), cp.array(weights)) + bias\n",
        "      #print(\"Node \", i, \" : \", newLayer[i])\n",
        "\n",
        "\n",
        "    returnLayer = cp.zeros(len(newLayer))\n",
        "\n",
        "\n",
        "    threads_per_block = self.threads_per_block\n",
        "    size = len(newLayer)\n",
        "    grid_size = (int(math.ceil(size / threads_per_block)), 1, 1)\n",
        "    block_size = (threads_per_block, 1, 1)\n",
        "\n",
        "    start_gpu = cp.cuda.Event()\n",
        "    end_gpu = cp.cuda.Event()\n",
        "\n",
        "    activation_func(grid_size, block_size, (cp.array(newLayer), cp.array(returnLayer), activation))\n",
        "\n",
        "    return returnLayer\n",
        "\n",
        "  def outputLayer(self, lastHidden):\n",
        "    outLayer = []\n",
        "    for i in range(self.outputClass):\n",
        "      outLayer.append(node(lastHidden, [cp.random.random() for j in range(len(self.inputVector))], activation='sigmoid'))\n",
        "\n",
        "    endVals = []\n",
        "    for i in range(self.outputClass):\n",
        "      endVals.append(outLayer[i].nodeVal)\n",
        "      #print(\"Class \", i, \" : \", outLayer[i].nodeVal)\n",
        "\n",
        "    return endVals.index(max(endVals))\n",
        "\n",
        "  def printResult(self):\n",
        "    print(\"Predicted Class: \", self. outputIndex)\n",
        "\n",
        "  def getPrediction(self):\n",
        "    return self.outputIndex"
      ]
    },
    {
      "cell_type": "markdown",
      "metadata": {
        "id": "hMwSVNr6OMjL"
      },
      "source": [
        "# Sample with the Iris Dataset"
      ]
    },
    {
      "cell_type": "code",
      "execution_count": null,
      "metadata": {
        "colab": {
          "base_uri": "https://localhost:8080/"
        },
        "id": "vDeWLDQ6OMjM",
        "outputId": "695a24ab-61ca-45a4-c0e8-654e89e64aa3"
      },
      "outputs": [
        {
          "data": {
            "text/plain": [
              "0    setosa\n",
              "1    setosa\n",
              "2    setosa\n",
              "3    setosa\n",
              "4    setosa\n",
              "Name: species, dtype: object"
            ]
          },
          "execution_count": 5,
          "metadata": {},
          "output_type": "execute_result"
        }
      ],
      "source": [
        "# Loading the IRIS Dataset for Classification\n",
        "import pandas as pd\n",
        "import numpy as np\n",
        "from sklearn import datasets\n",
        "\n",
        "filepath = 'iris.csv'\n",
        "iris = pd.read_csv(filepath)\n",
        "\n",
        "iris.head()\n",
        "\n",
        "# data (as pandas dataframes)\n",
        "df_X = iris.iloc[:,:-1]\n",
        "df_y = iris.iloc[:,-1]\n",
        "\n",
        "#df_X = pd.DataFrame(df_X)\n",
        "df_X.head()\n",
        "\n",
        "#df_y = pd.DataFrame(df_y)\n",
        "df_y.head()"
      ]
    },
    {
      "cell_type": "code",
      "execution_count": null,
      "metadata": {
        "colab": {
          "base_uri": "https://localhost:8080/"
        },
        "id": "3QyUbwVTOMjM",
        "outputId": "c79c1063-567c-42c3-ece9-d535ae470bc8"
      },
      "outputs": [
        {
          "name": "stdout",
          "output_type": "stream",
          "text": [
            "<class 'pandas.core.frame.DataFrame'>\n",
            "RangeIndex: 150 entries, 0 to 149\n",
            "Data columns (total 4 columns):\n",
            " #   Column        Non-Null Count  Dtype  \n",
            "---  ------        --------------  -----  \n",
            " 0   sepal_length  150 non-null    float64\n",
            " 1   sepal_width   150 non-null    float64\n",
            " 2   petal_length  150 non-null    float64\n",
            " 3   petal_width   150 non-null    float64\n",
            "dtypes: float64(4)\n",
            "memory usage: 4.8 KB\n",
            "<class 'pandas.core.series.Series'>\n",
            "RangeIndex: 150 entries, 0 to 149\n",
            "Series name: species\n",
            "Non-Null Count  Dtype \n",
            "--------------  ----- \n",
            "150 non-null    object\n",
            "dtypes: object(1)\n",
            "memory usage: 1.3+ KB\n",
            "0      0\n",
            "1      0\n",
            "2      0\n",
            "3      0\n",
            "4      0\n",
            "      ..\n",
            "145    2\n",
            "146    2\n",
            "147    2\n",
            "148    2\n",
            "149    2\n",
            "Name: species, Length: 150, dtype: int64\n"
          ]
        },
        {
          "data": {
            "text/plain": [
              "species\n",
              "0    50\n",
              "1    50\n",
              "2    50\n",
              "Name: count, dtype: int64"
            ]
          },
          "execution_count": 6,
          "metadata": {},
          "output_type": "execute_result"
        }
      ],
      "source": [
        "# Perform some data wrangling/preparation\n",
        "\n",
        "# Check info on the attributes\n",
        "df_X.info() # All values are same type, check if any missing values\n",
        "df_X.isnull().sum() # To check if there are any null values\n",
        "\n",
        "# Checking the output\n",
        "df_y.info()\n",
        "\n",
        "# Object Types must be converted\n",
        "df_y_original = df_y.copy() # Store the df somewhere before modifying\n",
        "\n",
        "df_y.value_counts()\n",
        "\n",
        "# Reveals Three Classes\n",
        "# Map classes to corresponding numerical values\n",
        "\n",
        "outMap = {'setosa':0, 'versicolor':1, 'virginica':2}\n",
        "df_y.replace(outMap, inplace=True)\n",
        "\n",
        "print(df_y)\n",
        "df_y.value_counts()"
      ]
    },
    {
      "cell_type": "markdown",
      "metadata": {
        "id": "BpNbdxWTOMjM"
      },
      "source": [
        "# Test out the CPU Model"
      ]
    },
    {
      "cell_type": "code",
      "execution_count": null,
      "metadata": {
        "id": "4O1wMlTjZ6jw"
      },
      "outputs": [],
      "source": [
        "import time"
      ]
    },
    {
      "cell_type": "code",
      "execution_count": null,
      "metadata": {
        "id": "DEO3XYLlOMjN"
      },
      "outputs": [],
      "source": [
        "def testModel(model, inVector, appendList = []):\n",
        "  for i in inVector:\n",
        "    model.activate(i, 10)\n",
        "    appendList.append(model.getPrediction())"
      ]
    },
    {
      "cell_type": "code",
      "execution_count": null,
      "metadata": {
        "colab": {
          "base_uri": "https://localhost:8080/"
        },
        "id": "UU2euBKHOMjN",
        "outputId": "2965ab53-2b3c-4327-b439-787fa916787c"
      },
      "outputs": [
        {
          "name": "stdout",
          "output_type": "stream",
          "text": [
            "Elapsed CPU:  0.037357330322265625\n"
          ]
        }
      ],
      "source": [
        "predictedVals = []\n",
        "model = mlp()\n",
        "\n",
        "start = time.time()\n",
        "testModel(model, np.array(df_X), predictedVals)\n",
        "end = time.time()\n",
        "print(\"Elapsed CPU: \", end-start)"
      ]
    },
    {
      "cell_type": "code",
      "execution_count": null,
      "metadata": {
        "colab": {
          "base_uri": "https://localhost:8080/"
        },
        "id": "EzmrjTQ4OMjN",
        "outputId": "d9ebed2e-92b6-4915-eb76-1ab731ef6604"
      },
      "outputs": [
        {
          "name": "stdout",
          "output_type": "stream",
          "text": [
            "Correct Predictions / Total Predictions: 17 / 150 .\n",
            "Custom Feedforward Neural Network is: 11 % Accurate\n"
          ]
        }
      ],
      "source": [
        "trueOutput = np.array(df_y)\n",
        "\n",
        "correctPreds, totalPreds = 0, len(trueOutput)\n",
        "for i in range(totalPreds):\n",
        "  if predictedVals[i] == trueOutput[i]:\n",
        "    correctPreds = correctPreds + 1\n",
        "\n",
        "print(\"Correct Predictions / Total Predictions: {} / {} .\".format(correctPreds, totalPreds))\n",
        "print(\"Custom Feedforward Neural Network is: {} % Accurate\".format(round(correctPreds/totalPreds * 100), 2))"
      ]
    },
    {
      "cell_type": "markdown",
      "metadata": {
        "id": "JzonciwQOMjN"
      },
      "source": [
        "# Implementation using reductionKernel"
      ]
    },
    {
      "cell_type": "code",
      "execution_count": null,
      "metadata": {
        "id": "z1LansRWOMjN"
      },
      "outputs": [],
      "source": [
        "# For implementation with CuPY\n",
        "import cupy as cp"
      ]
    },
    {
      "cell_type": "code",
      "execution_count": null,
      "metadata": {
        "id": "EgCLBCNJ7R7M"
      },
      "outputs": [],
      "source": [
        "# Reduction Kernel per Node\n",
        "nodeSum_kernel = cp.ReductionKernel(\n",
        "    'T inputVec, U inputWeight',  # input params\n",
        "    'T outputVec',  # output params\n",
        "    'inputVec * inputWeight',  # map\n",
        "    'a + b',  # reduce\n",
        "    'outputVec = a',  # post-reduction map\n",
        "    '0',  # identity value\n",
        "    'nodeSum_kernel'  # kernel name\n",
        ")\n",
        "\n",
        "# Activation Function Kernel\n",
        "activation_func = cp.RawKernel(r'''\n",
        "extern \"C\" __global__\n",
        "void activation_func(const float* newLayer, float *returnLayer, const int choice) {\n",
        "    int tid = blockDim.x * blockIdx.x + threadIdx.x;\n",
        "    const float EULER_NUMBER = 2.718281828459045;\n",
        "\n",
        "    if (choice == 1) returnLayer[tid] = (1 / (1 + pow(EULER_NUMBER, -1 * newLayer[tid])));\n",
        "    if (choice == 2) returnLayer[tid] = max(0.1 * newLayer[tid], newLayer[tid]);\n",
        "}\n",
        "''', 'activation_func')"
      ]
    },
    {
      "cell_type": "code",
      "execution_count": null,
      "metadata": {
        "id": "fD-k6mclOMjO"
      },
      "outputs": [],
      "source": [
        "class MLPcupy():\n",
        "\n",
        "  def __init__ (self, tpb):\n",
        "    # We simulate the input layer here by storing each value\n",
        "    # in the input as an element of a vector\n",
        "    self.inputSize = None\n",
        "    self.outputClass = []\n",
        "    self.inputVector = [] # This is the vector we pass to the first hidden layer\n",
        "    self.outputVal = None\n",
        "    self.outputIndex = None\n",
        "    self.threads_per_block = tpb\n",
        "\n",
        "  def activate(self, inputVector, numClass):\n",
        "  # For now, this is just forward propagation\n",
        "\n",
        "    # We simulate the input layer here by storing each value\n",
        "    # in the input as an element of a vector\n",
        "    self.inputSize = len(inputVector)\n",
        "    self.outputClass = numClass\n",
        "    self.inputVector = inputVector # This is the vector we pass to the first hidden layer\n",
        "\n",
        "    # Simulate hidden later\n",
        "    layer1 = self.addLayer(numNodes = 10, prevLayer = self.inputVector, activation = \"relu\")\n",
        "    layer2 = self.addLayer(numNodes = 5, prevLayer = layer1, activation = \"relu\")\n",
        "    #print(layer4)\n",
        "\n",
        "    # Simulate output layer\n",
        "    self.outputIndex = self.outputLayer(layer2)\n",
        "\n",
        "  # This intendeds to simulate the hidden layers\n",
        "  def addLayer(self, numNodes = None, prevLayer = None, activation = None):\n",
        "\n",
        "    if numNodes == None:\n",
        "      print(\"Indicate number of Nodes.\")\n",
        "      return\n",
        "\n",
        "    # This will be where we store the new values\n",
        "    newLayer = cp.zeros(numNodes)\n",
        "\n",
        "    #activation_func(float* newLayer, const int choice)\n",
        "    if activation == \"sigmoid\":\n",
        "        activation = 1\n",
        "    elif activation == \"relu\":\n",
        "        activation = 2\n",
        "\n",
        "    for i in range(numNodes):\n",
        "    # add_kernel(grid_size, block_size, (x1, x2, y, size))\n",
        "    # nodeSum_kernel(const float* inputVector, const float* layerWeights, float* outputNode, const float* bias)\n",
        "      #print(\"Nodes: \", prevLayer)\n",
        "      weights = cp.array([cp.random.random() for i in range(len(prevLayer))])\n",
        "      #print(\"Weights: \", weights)\n",
        "      bias = cp.random.random()\n",
        "      #print(\"Bias: \", bias)\n",
        "\n",
        "      newLayer[i] = nodeSum_kernel(cp.array(prevLayer), cp.array(weights), activation) + bias\n",
        "      #print(\"Node \", i, \" : \", newLayer[i])\n",
        "\n",
        "\n",
        "    returnLayer = cp.zeros(len(newLayer))\n",
        "\n",
        "\n",
        "    threads_per_block = self.threads_per_block\n",
        "    size = len(newLayer)\n",
        "    grid_size = (int(math.ceil(size / threads_per_block)), 1, 1)\n",
        "    block_size = (threads_per_block, 1, 1)\n",
        "\n",
        "    start_gpu = cp.cuda.Event()\n",
        "    end_gpu = cp.cuda.Event()\n",
        "\n",
        "    activation_func(grid_size, block_size, (cp.array(newLayer), cp.array(returnLayer), activation))\n",
        "\n",
        "    return returnLayer\n",
        "\n",
        "  def outputLayer(self, lastHidden):\n",
        "    outLayer = []\n",
        "    for i in range(self.outputClass):\n",
        "      outLayer.append(node(lastHidden, [cp.random.random() for j in range(len(self.inputVector))], activation='sigmoid'))\n",
        "\n",
        "    endVals = []\n",
        "    for i in range(self.outputClass):\n",
        "      endVals.append(outLayer[i].nodeVal)\n",
        "      #print(\"Class \", i, \" : \", outLayer[i].nodeVal)\n",
        "\n",
        "    return endVals.index(max(endVals))\n",
        "\n",
        "  def printResult(self):\n",
        "    print(\"Predicted Class: \", self. outputIndex)\n",
        "\n",
        "  def getPrediction(self):\n",
        "    return self.outputIndex"
      ]
    },
    {
      "cell_type": "markdown",
      "metadata": {
        "id": "4LhtMsnMOTkT"
      },
      "source": [
        "# Testing CuPy Model"
      ]
    },
    {
      "cell_type": "code",
      "execution_count": null,
      "metadata": {
        "id": "iadSlgpiOUKo"
      },
      "outputs": [],
      "source": [
        "model2 = MLPcupy(512)\n",
        "outputCuPy = cp.zeros(len(df_X))"
      ]
    },
    {
      "cell_type": "code",
      "execution_count": null,
      "metadata": {
        "id": "nsd0LJSSYdTN"
      },
      "outputs": [],
      "source": [
        "def testGPUModel(model, inVector, outClasses, appendList = []):\n",
        "  for i in range(len(inVector)):\n",
        "    model.activate(cp.array(inVector[i]), outClasses)\n",
        "    appendList[i] = model.getPrediction()"
      ]
    },
    {
      "cell_type": "code",
      "execution_count": null,
      "metadata": {
        "id": "dly1_APuYmGT"
      },
      "outputs": [],
      "source": [
        "testGPUModel(model2, cp.array(df_X), 3, outputCuPy)"
      ]
    },
    {
      "cell_type": "code",
      "execution_count": null,
      "metadata": {
        "id": "J_TGNDRgYQtJ",
        "outputId": "cf5716a8-ee6e-48fe-ea31-156d0fd1a875"
      },
      "outputs": [
        {
          "name": "stdout",
          "output_type": "stream",
          "text": [
            "Correct Predictions / Total Predictions: 58 / 150 .\n",
            "Custom Feedforward Neural Network is: 39 % Accurate\n"
          ]
        }
      ],
      "source": [
        "trueOutput = np.array(df_y)\n",
        "predictedCuPy = np.array(outputCuPy.get())\n",
        "\n",
        "correctPreds, totalPreds = 0, len(trueOutput)\n",
        "for i in range(totalPreds):\n",
        "  if predictedCuPy[i] == trueOutput[i]:\n",
        "    correctPreds = correctPreds + 1\n",
        "\n",
        "print(\"Correct Predictions / Total Predictions: {} / {} .\".format(correctPreds, totalPreds))\n",
        "print(\"Custom Feedforward Neural Network is: {} % Accurate\".format(round(correctPreds/totalPreds * 100), 2))"
      ]
    },
    {
      "cell_type": "markdown",
      "metadata": {
        "id": "aOdB-cq3faJI"
      },
      "source": [
        "# Using Models on MNIST Dataset"
      ]
    },
    {
      "cell_type": "code",
      "execution_count": null,
      "metadata": {
        "id": "5Hgdy5dmS6W6",
        "outputId": "9ccc2622-952e-4622-c3b8-5d4f9475f2bb"
      },
      "outputs": [
        {
          "data": {
            "text/plain": [
              "<Figure size 640x480 with 0 Axes>"
            ]
          },
          "metadata": {},
          "output_type": "display_data"
        },
        {
          "data": {
            "image/png": "[encoded data removed]",
            "text/plain": [
              "<Figure size 480x480 with 1 Axes>"
            ]
          },
          "metadata": {},
          "output_type": "display_data"
        }
      ],
      "source": [
        "from sklearn.datasets import load_digits\n",
        "import matplotlib.pyplot as plt\n",
        "\n",
        "digits = load_digits()\n",
        "plt.gray()\n",
        "plt.matshow(digits.images[0])\n",
        "plt.show()"
      ]
    },
    {
      "cell_type": "code",
      "execution_count": null,
      "metadata": {
        "id": "DZ3j4crB7R7N",
        "outputId": "4ddecdaf-aa26-4653-e376-b3dd20271323"
      },
      "outputs": [
        {
          "name": "stdout",
          "output_type": "stream",
          "text": [
            "[ 0.  0.  5. 13.  9.  1.  0.  0.  0.  0. 13. 15. 10. 15.  5.  0.  0.  3.\n",
            " 15.  2.  0. 11.  8.  0.  0.  4. 12.  0.  0.  8.  8.  0.  0.  5.  8.  0.\n",
            "  0.  9.  8.  0.  0.  4. 11.  0.  1. 12.  7.  0.  0.  2. 14.  5. 10. 12.\n",
            "  0.  0.  0.  0.  6. 13. 10.  0.  0.  0.]\n",
            "0\n"
          ]
        }
      ],
      "source": [
        "# Create the data to contain the array of images\n",
        "\n",
        "numX = []\n",
        "numY = []\n",
        "\n",
        "for i in range(len(digits.data)):\n",
        "    numX.append(np.array(digits.data[i]))\n",
        "    numY.append(np.array(digits.target[i]))\n",
        "\n",
        "print(numX[0])\n",
        "print(numY[0])"
      ]
    },
    {
      "cell_type": "code",
      "execution_count": null,
      "metadata": {
        "id": "xkcxJdia7R7N",
        "outputId": "134c1de9-ab46-48b2-831d-50b3d9c51cd1"
      },
      "outputs": [
        {
          "name": "stdout",
          "output_type": "stream",
          "text": [
            "Elapsed CPU:  2.5493130683898926\n"
          ]
        }
      ],
      "source": [
        "# Test this on the CPU\n",
        "predictedVals = []\n",
        "model = mlp()\n",
        "\n",
        "start = time.time()\n",
        "testModel(model, np.array(numX), predictedVals)\n",
        "end = time.time()\n",
        "print(\"Elapsed CPU: \", end-start)"
      ]
    },
    {
      "cell_type": "code",
      "execution_count": null,
      "metadata": {
        "id": "sv0XDt747R7N",
        "outputId": "59259870-94c8-41c8-d9b3-f88029c9a14f"
      },
      "outputs": [
        {
          "name": "stdout",
          "output_type": "stream",
          "text": [
            "Correct Predictions / Total Predictions: 178 / 1797 .\n",
            "Custom Feedforward Neural Network is: 10 % Accurate\n"
          ]
        }
      ],
      "source": [
        "trueOutput = np.array(numY)\n",
        "\n",
        "correctPreds, totalPreds = 0, len(trueOutput)\n",
        "for i in range(totalPreds):\n",
        "  if predictedVals[i] == trueOutput[i]:\n",
        "    correctPreds = correctPreds + 1\n",
        "\n",
        "print(\"Correct Predictions / Total Predictions: {} / {} .\".format(correctPreds, totalPreds))\n",
        "print(\"Custom Feedforward Neural Network is: {} % Accurate\".format(round(correctPreds/totalPreds * 100), 2))"
      ]
    },
    {
      "cell_type": "code",
      "execution_count": null,
      "metadata": {
        "id": "Iz8xlf8X7R7N"
      },
      "outputs": [],
      "source": [
        "# Test this on the GPU\n",
        "import time\n",
        "\n",
        "start_gpu = cp.cuda.Event()\n",
        "end_gpu = cp.cuda.Event()"
      ]
    },
    {
      "cell_type": "code",
      "execution_count": null,
      "metadata": {
        "id": "KLPmS1Sm7R7O"
      },
      "outputs": [],
      "source": [
        "# Testing on the GPU\n",
        "tpb_values = [16, 32, 64, 128, 256, 512]\n",
        "time_record = []\n",
        "\n",
        "start_gpu = cp.cuda.Event()\n",
        "end_gpu = cp.cuda.Event()\n",
        "\n",
        "def modelTestingGPU(size_tpb):\n",
        "    print(\"Testing for \", size_tpb)\n",
        "    model2 = MLPcupy(size_tpb)\n",
        "    outputCuPy = cp.zeros(len(numX))\n",
        "\n",
        "    start_gpu.record()\n",
        "    testGPUModel(model2, cp.array(numX), 10, outputCuPy)\n",
        "    end_gpu.record()\n",
        "    end_gpu.synchronize()\n",
        "    time_record.append(cp.cuda.get_elapsed_time(start_gpu, end_gpu))\n",
        "\n",
        "    trueOutput = np.array(numY)\n",
        "    predictedCuPy = np.array(outputCuPy.get())\n",
        "\n",
        "    correctPreds, totalPreds = 0, len(trueOutput)\n",
        "    for i in range(totalPreds):\n",
        "      if predictedCuPy[i] == trueOutput[i]:\n",
        "        correctPreds = correctPreds + 1"
      ]
    },
    {
      "cell_type": "code",
      "execution_count": null,
      "metadata": {
        "id": "KQTT0JlH7R7O",
        "outputId": "c8241923-55ee-46d9-ce81-d95a0f6d0fd2"
      },
      "outputs": [
        {
          "name": "stdout",
          "output_type": "stream",
          "text": [
            "Testing for  16\n",
            "Testing for  32\n",
            "Testing for  64\n",
            "Testing for  128\n",
            "Testing for  256\n",
            "Testing for  512\n"
          ]
        }
      ],
      "source": [
        "for i in tpb_values:\n",
        "    modelTestingGPU(i)"
      ]
    },
    {
      "cell_type": "code",
      "execution_count": null,
      "metadata": {
        "id": "kbjfmnI_7R7O"
      },
      "outputs": [],
      "source": [
        "%matplotlib inline\n",
        "import matplotlib.pyplot as plt\n",
        "import numpy as np"
      ]
    },
    {
      "cell_type": "code",
      "execution_count": null,
      "metadata": {
        "id": "3zcXV5dg7R7O",
        "outputId": "6e29a152-d182-4a5a-f91d-5aa15ca1200c"
      },
      "outputs": [
        {
          "name": "stdout",
          "output_type": "stream",
          "text": [
            "36719.32421875\n",
            "36639.11328125\n",
            "36647.48046875\n",
            "36599.9765625\n",
            "36645.4453125\n",
            "36569.20703125\n"
          ]
        }
      ],
      "source": [
        "for i in time_record:\n",
        "    print(i)"
      ]
    },
    {
      "cell_type": "code",
      "execution_count": null,
      "metadata": {
        "id": "a1sb2shR7R7O",
        "outputId": "b74153c4-7ef8-4416-ed0e-d2c44fb6d23c"
      },
      "outputs": [
        {
          "data": {
            "image/png": "[encoded data removed]",
            "text/plain": [
              "<Figure size 1000x500 with 1 Axes>"
            ]
          },
          "metadata": {},
          "output_type": "display_data"
        }
      ],
      "source": [
        "# plt.bar(x, height, width, bottom, align)\n",
        "# creating the dataset\n",
        "data = {'16 TpB':round(time_record[0], 2), '32 TpB':round(time_record[1], 2), '64 TpB':round(time_record[2], 2),\n",
        "\t\t'128 TpB':round(time_record[3], 2), '256 TpB':round(time_record[4], 2), '512 TpB':round(time_record[5], 2)}\n",
        "data_labels = list(data.keys())\n",
        "data_values = list(data.values())\n",
        "\n",
        "fig = plt.figure(figsize = (10, 5))\n",
        "\n",
        "ax = fig.add_subplot(111)\n",
        "\n",
        "# creating the bar plot\n",
        "bars = ax.bar(data_labels, data_values, color ='maroon',\n",
        "\t\twidth = 0.4)\n",
        "\n",
        "for bar in bars:\n",
        "   height = bar.get_height()\n",
        "   ax.annotate(f'{height}', xy=(bar.get_x() + bar.get_width() / 2, height), xytext=(0, 3),\n",
        "   textcoords=\"offset points\", ha='center', va='bottom')\n",
        "\n",
        "plt.xlabel(\"Threads per Block\")\n",
        "plt.ylabel(\"Time Elapsed\")\n",
        "plt.title(\"Comparison of Speed for Varying Threads per Block\")\n",
        "plt.show()"
      ]
    },
    {
      "cell_type": "markdown",
      "metadata": {
        "id": "uKSHxcO_7R7O"
      },
      "source": [
        "# Implementation with CuPy and JIT\n"
      ]
    },
    {
      "cell_type": "code",
      "source": [
        "no_samples=100000\n",
        "no_features=10\n",
        "no_classes=2"
      ],
      "metadata": {
        "id": "rjK51OkLsAsG"
      },
      "execution_count": 95,
      "outputs": []
    },
    {
      "cell_type": "markdown",
      "source": [
        "## Data Preparation"
      ],
      "metadata": {
        "id": "g0f94lw0iZxL"
      }
    },
    {
      "cell_type": "code",
      "source": [
        "# Test on dummy data\n",
        "from sklearn import datasets\n",
        "import matplotlib.pyplot as plt\n",
        "from sklearn.datasets import make_classification\n",
        "\n",
        "# Generate data with 10 features, 1000 samples, and 2 classes with informative features\n",
        "X, y = make_classification(n_samples=no_samples, n_features=no_features, n_classes=no_classes, random_state=42)\n",
        "\n",
        "# X is the data (features), y are the labels (class assignments)\n",
        "print(X.shape)  # Output: (100, 4) - 100 samples with 4 features each\n",
        "print(y.shape)  # Output: (100,) - 100 labels (0 or 1)\n",
        "\n",
        "# Create the scatter plot\n",
        "plt.scatter(X[:, 0], X[:, 1], c=y)  # Using first two columns of X for x and y axes\n",
        "\n",
        "# Add labels and title\n",
        "plt.xlabel(\"X-axis\")\n",
        "plt.ylabel(\"Y-axis\")\n",
        "plt.title(\"Sample Scatter Plot\")\n",
        "\n",
        "# Display the plot\n",
        "plt.show()"
      ],
      "metadata": {
        "colab": {
          "base_uri": "https://localhost:8080/",
          "height": 508
        },
        "id": "p3bRtpZMHIXL",
        "outputId": "1eea61e4-ad68-4c33-cfd4-fe2710bc2fd1"
      },
      "execution_count": 96,
      "outputs": [
        {
          "output_type": "stream",
          "name": "stdout",
          "text": [
            "(100000, 10)\n",
            "(100000,)\n"
          ]
        },
        {
          "output_type": "display_data",
          "data": {
            "text/plain": [
              "<Figure size 640x480 with 1 Axes>"
            ],
            "image/png": "[encoded data removed]"
          },
          "metadata": {}
        }
      ]
    },
    {
      "cell_type": "markdown",
      "source": [
        "## Create CPU Code First"
      ],
      "metadata": {
        "id": "Of4x7mE6Erwh"
      }
    },
    {
      "cell_type": "code",
      "source": [
        "# CPU Code First\n",
        "\n",
        "import numpy as np\n",
        "import pandas as pd\n",
        "import math\n",
        "\n",
        "# The input layer\n",
        "# Load and ready the data to be passed to the hidden layer\n",
        "def cpu_inputLayer(inputVec):\n",
        "  vecToReturn = np.array(inputVec)\n",
        "  return vecToReturn\n",
        "\n",
        "# Once the input layer has received the input values\n",
        "# The values are now ready to pass to the next layer\n",
        "# This is now the hidden layer\n",
        "def cpu_hiddenLayer(numNodes, inputLayer):\n",
        "  # Accept the number of nodes for this hidden layer\n",
        "  # Accepts the previous layer\n",
        "  layerToReturn = []\n",
        "  bias = np.random.random()\n",
        "\n",
        "  # Per node, compute the product of the inputLayer and the randomized inputWeights\n",
        "  for i in range(no_features):\n",
        "    weights = np.random.random(no_features)\n",
        "    layerToReturn.append(np.dot(inputLayer, weights) + bias)\n",
        "    # Add the bias term to the node's sum\n",
        "\n",
        "  # This layer outputs a vector containing the individual values per node\n",
        "  # That must be passed to the individual node's activation function\n",
        "  # Note: This function must be called multiple times if more layers are generated\n",
        "  return layerToReturn\n",
        "\n",
        "# This function is called to change the values of the input values\n",
        "# Based on chosen activation function\n",
        "def cpu_activationFunc(inputVector, activation = \"\"):\n",
        "  activation = activation.lower()\n",
        "\n",
        "  for i in inputVector:\n",
        "    if activation == \"sigmoid\":\n",
        "      i = (1 / 1 + np.exp(-1 * i))\n",
        "    elif activation == \"relu\":\n",
        "      i = np.max([0.01 * i, i])\n",
        "    elif activation == \"linear\":\n",
        "      i = i # No changes\n",
        "\n",
        "  return inputVector\n",
        "\n",
        "def cpu_outputLayer(prevLayer):\n",
        "  outputLayer = cpu_hiddenLayer(no_classes, prevLayer)\n",
        "  outputLayer = cpu_activationFunc(outputLayer, \"sigmoid\")\n",
        "\n",
        "  return max(outputLayer), np.argmax(outputLayer)"
      ],
      "metadata": {
        "id": "VHqgA7Tt9Zi-"
      },
      "execution_count": 97,
      "outputs": []
    },
    {
      "cell_type": "markdown",
      "source": [
        "## CPU Model Testing"
      ],
      "metadata": {
        "id": "IqaTz6qsTvZa"
      }
    },
    {
      "cell_type": "code",
      "source": [
        "# Model Testing Function\n",
        "\n",
        "def testCPU(inputData):\n",
        "  for i in range(len(inputData)):\n",
        "    mlp_inputLayer = cpu_inputLayer(X[i])\n",
        "    mlp_hiddenLayer1 = cpu_hiddenLayer(8, mlp_inputLayer)\n",
        "    mlp_hiddenLayer1 = cpu_activationFunc(mlp_hiddenLayer1, \"relu\")\n",
        "    mlp_hiddenLayer2 = cpu_hiddenLayer(5, mlp_hiddenLayer1)\n",
        "    mlp_hiddenLayer2 = cpu_activationFunc(mlp_hiddenLayer2, \"relu\")\n",
        "    mlp_outputLayer = cpu_outputLayer(mlp_hiddenLayer2)"
      ],
      "metadata": {
        "id": "jRPFZ6FESmxl"
      },
      "execution_count": 98,
      "outputs": []
    },
    {
      "cell_type": "code",
      "source": [
        "import time\n",
        "\n",
        "start_cpu = time.perf_counter()\n",
        "testCPU(X)\n",
        "end_cpu = time.perf_counter()\n",
        "t_cpu = end_cpu - start_cpu\n",
        "\n",
        "print(\"CPU Execution Time: \", t_cpu)"
      ],
      "metadata": {
        "colab": {
          "base_uri": "https://localhost:8080/"
        },
        "id": "92iDENGChMmd",
        "outputId": "2a24348d-c1a7-434b-f060-7d3478369dfd"
      },
      "execution_count": 99,
      "outputs": [
        {
          "output_type": "stream",
          "name": "stdout",
          "text": [
            "CPU Execution Time:  24.872077048999927\n"
          ]
        }
      ]
    },
    {
      "cell_type": "markdown",
      "source": [
        "## Implementation using CuPy"
      ],
      "metadata": {
        "id": "-GJy8qWVkyPV"
      }
    },
    {
      "cell_type": "code",
      "source": [
        "# GPU Code First with CuPy\n",
        "\n",
        "import cupy as cp\n",
        "from cupyx import jit\n",
        "import numpy as np\n",
        "import math\n",
        "\n",
        "nodeSum_kernel = cp.ReductionKernel(\n",
        "    'T x, U y',  # input params\n",
        "    'T z',  # output params\n",
        "    'x * y',  # map\n",
        "    'a + b',  # reduce\n",
        "    'z = a',  # post-reduction map\n",
        "    '0',  # identity value\n",
        "    'nodeSum_kernel'  # kernel name\n",
        ")\n",
        "\n",
        "# The input layer\n",
        "# Load and ready the data to be passed to the hidden layer\n",
        "def cupy_inputLayer(inputVec):\n",
        "  # Create array in the GPU\n",
        "  vecToReturn = cp.array(inputVec)\n",
        "  return vecToReturn\n",
        "\n",
        "def generate_random_weights(numFeatures):\n",
        "  # Generate weights for all nodes at once\n",
        "  return cp.random.random(numFeatures)\n",
        "\n",
        "# Part of this is parallelizable\n",
        "def cupy_hiddenLayer(numNodes, inputLayer):\n",
        "  # Accept the number of nodes for this hidden layer\n",
        "  # Accepts the previous layer\n",
        "  layerToReturn = cp.zeros(no_features)\n",
        "  bias = cp.random.random()\n",
        "\n",
        "  # Per node, compute the product of the inputLayer and the randomized inputWeights\n",
        "  for i in range(no_features):\n",
        "    weights = cp.random.random(no_features)\n",
        "    #layerToReturn[i] = cp.dot(inputLayer, weights) + bias\n",
        "    layerToReturn[i] = nodeSum_kernel(inputLayer, weights) + bias\n",
        "    # Add the bias term to the node's sum\n",
        "\n",
        "  # This layer outputs a vector containing the individual values per node\n",
        "  # That must be passed to the individual node's activation function\n",
        "  # Note: This function must be called multiple times if more layers are generated\n",
        "  return layerToReturn\n",
        "\n",
        "# Parallelized to be an element-wise copy\n",
        "@cp.fuse(kernel_name='cupy_activationFunc')\n",
        "def cupy_activationFunc(inputVector, outputVector, activation):\n",
        "\n",
        "  def apply_activation(x):\n",
        "    if activation == 1:\n",
        "      return cp.reciprocal(1 + cp.exp(-1 * x))\n",
        "    elif activation == 2:\n",
        "      return cp.maximum(0.01 * x, x)\n",
        "    elif activation == 3:\n",
        "      return x\n",
        "    else:\n",
        "      raise ValueError(\"Invalid activation function\")\n",
        "\n",
        "  outputVector = apply_activation(inputVector)\n",
        "\n",
        "def cupy_outputLayer(prevLayer):\n",
        "  outputLayer = cupy_hiddenLayer(no_classes, prevLayer)\n",
        "  outputLayer_y = cp.zeros(no_classes)\n",
        "  cupy_activationFunc(outputLayer, outputLayer_y, 1)\n",
        "  return cp.max(outputLayer), cp.argmax(outputLayer)"
      ],
      "metadata": {
        "id": "FtZyd7ZYkWHp"
      },
      "execution_count": 100,
      "outputs": []
    },
    {
      "cell_type": "markdown",
      "source": [
        "## GPU Testing"
      ],
      "metadata": {
        "id": "rUnLc8ZUn4B4"
      }
    },
    {
      "cell_type": "code",
      "source": [
        "# Model Testing Function\n",
        "# cupy_activationFunc(inputVector, outputVector, activation, size)\n",
        "def testGPU_cupy(inputData):\n",
        "  for i in range(len(inputData)):\n",
        "    mlp_inputLayer = cupy_inputLayer(X[0])\n",
        "    mlp_hiddenLayer1 = cupy_hiddenLayer(8, mlp_inputLayer)\n",
        "    cupy_activationFunc(mlp_hiddenLayer1, mlp_hiddenLayer1, 2)\n",
        "    mlp_hiddenLayer2 = cupy_hiddenLayer(5, mlp_hiddenLayer1)\n",
        "    cupy_activationFunc(mlp_hiddenLayer2, mlp_hiddenLayer2, 2)\n",
        "    mlp_outputLayer = cupy_outputLayer(mlp_hiddenLayer2)"
      ],
      "metadata": {
        "id": "-xQgoihYn5LI"
      },
      "execution_count": 101,
      "outputs": []
    },
    {
      "cell_type": "code",
      "source": [
        "start_gpu = cp.cuda.Event()\n",
        "end_gpu = cp.cuda.Event()\n",
        "\n",
        "start_gpu.record()\n",
        "start_cpu = time.perf_counter()\n",
        "testGPU_cupy(X)\n",
        "end_cpu = time.perf_counter()\n",
        "end_gpu.record()\n",
        "end_gpu.record()\n",
        "end_gpu.synchronize()\n",
        "t_gpu = cp.cuda.get_elapsed_time(start_gpu, end_gpu)\n",
        "t_cpu = end_cpu - start_cpu\n",
        "\n",
        "print(\"Execution Time measured with CUDA Event: \", t_gpu)\n",
        "print(\"Execution Time measured with time: \", t_cpu)"
      ],
      "metadata": {
        "colab": {
          "base_uri": "https://localhost:8080/",
          "height": 365
        },
        "id": "343ASckIwlPV",
        "outputId": "6a1f9021-a34b-4a42-a20c-a6eb10a876bf"
      },
      "execution_count": 102,
      "outputs": [
        {
          "output_type": "error",
          "ename": "KeyboardInterrupt",
          "evalue": "",
          "traceback": [
            "\u001b[0;31m---------------------------------------------------------------------------\u001b[0m",
            "\u001b[0;31mKeyboardInterrupt\u001b[0m                         Traceback (most recent call last)",
            "\u001b[0;32m<ipython-input-102-c258bd5a7ab8>\u001b[0m in \u001b[0;36m<cell line: 6>\u001b[0;34m()\u001b[0m\n\u001b[1;32m      4\u001b[0m \u001b[0mstart_gpu\u001b[0m\u001b[0;34m.\u001b[0m\u001b[0mrecord\u001b[0m\u001b[0;34m(\u001b[0m\u001b[0;34m)\u001b[0m\u001b[0;34m\u001b[0m\u001b[0;34m\u001b[0m\u001b[0m\n\u001b[1;32m      5\u001b[0m \u001b[0mstart_cpu\u001b[0m \u001b[0;34m=\u001b[0m \u001b[0mtime\u001b[0m\u001b[0;34m.\u001b[0m\u001b[0mperf_counter\u001b[0m\u001b[0;34m(\u001b[0m\u001b[0;34m)\u001b[0m\u001b[0;34m\u001b[0m\u001b[0;34m\u001b[0m\u001b[0m\n\u001b[0;32m----> 6\u001b[0;31m \u001b[0mtestGPU_cupy\u001b[0m\u001b[0;34m(\u001b[0m\u001b[0mX\u001b[0m\u001b[0;34m)\u001b[0m\u001b[0;34m\u001b[0m\u001b[0;34m\u001b[0m\u001b[0m\n\u001b[0m\u001b[1;32m      7\u001b[0m \u001b[0mend_cpu\u001b[0m \u001b[0;34m=\u001b[0m \u001b[0mtime\u001b[0m\u001b[0;34m.\u001b[0m\u001b[0mperf_counter\u001b[0m\u001b[0;34m(\u001b[0m\u001b[0;34m)\u001b[0m\u001b[0;34m\u001b[0m\u001b[0;34m\u001b[0m\u001b[0m\n\u001b[1;32m      8\u001b[0m \u001b[0mend_gpu\u001b[0m\u001b[0;34m.\u001b[0m\u001b[0mrecord\u001b[0m\u001b[0;34m(\u001b[0m\u001b[0;34m)\u001b[0m\u001b[0;34m\u001b[0m\u001b[0;34m\u001b[0m\u001b[0m\n",
            "\u001b[0;32m<ipython-input-101-badcfd841a00>\u001b[0m in \u001b[0;36mtestGPU_cupy\u001b[0;34m(inputData)\u001b[0m\n\u001b[1;32m      8\u001b[0m     \u001b[0mmlp_hiddenLayer2\u001b[0m \u001b[0;34m=\u001b[0m \u001b[0mcupy_hiddenLayer\u001b[0m\u001b[0;34m(\u001b[0m\u001b[0;36m5\u001b[0m\u001b[0;34m,\u001b[0m \u001b[0mmlp_hiddenLayer1\u001b[0m\u001b[0;34m)\u001b[0m\u001b[0;34m\u001b[0m\u001b[0;34m\u001b[0m\u001b[0m\n\u001b[1;32m      9\u001b[0m     \u001b[0mcupy_activationFunc\u001b[0m\u001b[0;34m(\u001b[0m\u001b[0mmlp_hiddenLayer2\u001b[0m\u001b[0;34m,\u001b[0m \u001b[0mmlp_hiddenLayer2\u001b[0m\u001b[0;34m,\u001b[0m \u001b[0;36m2\u001b[0m\u001b[0;34m)\u001b[0m\u001b[0;34m\u001b[0m\u001b[0;34m\u001b[0m\u001b[0m\n\u001b[0;32m---> 10\u001b[0;31m     \u001b[0mmlp_outputLayer\u001b[0m \u001b[0;34m=\u001b[0m \u001b[0mcupy_outputLayer\u001b[0m\u001b[0;34m(\u001b[0m\u001b[0mmlp_hiddenLayer2\u001b[0m\u001b[0;34m)\u001b[0m\u001b[0;34m\u001b[0m\u001b[0;34m\u001b[0m\u001b[0m\n\u001b[0m",
            "\u001b[0;32m<ipython-input-100-a928a5c6a2b0>\u001b[0m in \u001b[0;36mcupy_outputLayer\u001b[0;34m(prevLayer)\u001b[0m\n\u001b[1;32m     66\u001b[0m   \u001b[0moutputLayer_y\u001b[0m \u001b[0;34m=\u001b[0m \u001b[0mcp\u001b[0m\u001b[0;34m.\u001b[0m\u001b[0mzeros\u001b[0m\u001b[0;34m(\u001b[0m\u001b[0mno_classes\u001b[0m\u001b[0;34m)\u001b[0m\u001b[0;34m\u001b[0m\u001b[0;34m\u001b[0m\u001b[0m\n\u001b[1;32m     67\u001b[0m   \u001b[0mcupy_activationFunc\u001b[0m\u001b[0;34m(\u001b[0m\u001b[0moutputLayer\u001b[0m\u001b[0;34m,\u001b[0m \u001b[0moutputLayer_y\u001b[0m\u001b[0;34m,\u001b[0m \u001b[0;36m1\u001b[0m\u001b[0;34m)\u001b[0m\u001b[0;34m\u001b[0m\u001b[0;34m\u001b[0m\u001b[0m\n\u001b[0;32m---> 68\u001b[0;31m   \u001b[0;32mreturn\u001b[0m \u001b[0mcp\u001b[0m\u001b[0;34m.\u001b[0m\u001b[0mmax\u001b[0m\u001b[0;34m(\u001b[0m\u001b[0moutputLayer\u001b[0m\u001b[0;34m)\u001b[0m\u001b[0;34m,\u001b[0m \u001b[0mcp\u001b[0m\u001b[0;34m.\u001b[0m\u001b[0margmax\u001b[0m\u001b[0;34m(\u001b[0m\u001b[0moutputLayer\u001b[0m\u001b[0;34m)\u001b[0m\u001b[0;34m\u001b[0m\u001b[0;34m\u001b[0m\u001b[0m\n\u001b[0m",
            "\u001b[0;32m/usr/local/lib/python3.10/dist-packages/cupy/_statistics/order.py\u001b[0m in \u001b[0;36mamax\u001b[0;34m(a, axis, out, keepdims)\u001b[0m\n\u001b[1;32m     79\u001b[0m \u001b[0;34m\u001b[0m\u001b[0m\n\u001b[1;32m     80\u001b[0m     \u001b[0;31m# TODO(okuta): check type\u001b[0m\u001b[0;34m\u001b[0m\u001b[0;34m\u001b[0m\u001b[0m\n\u001b[0;32m---> 81\u001b[0;31m     \u001b[0;32mreturn\u001b[0m \u001b[0ma\u001b[0m\u001b[0;34m.\u001b[0m\u001b[0mmax\u001b[0m\u001b[0;34m(\u001b[0m\u001b[0maxis\u001b[0m\u001b[0;34m=\u001b[0m\u001b[0maxis\u001b[0m\u001b[0;34m,\u001b[0m \u001b[0mout\u001b[0m\u001b[0;34m=\u001b[0m\u001b[0mout\u001b[0m\u001b[0;34m,\u001b[0m \u001b[0mkeepdims\u001b[0m\u001b[0;34m=\u001b[0m\u001b[0mkeepdims\u001b[0m\u001b[0;34m)\u001b[0m\u001b[0;34m\u001b[0m\u001b[0;34m\u001b[0m\u001b[0m\n\u001b[0m\u001b[1;32m     82\u001b[0m \u001b[0;34m\u001b[0m\u001b[0m\n\u001b[1;32m     83\u001b[0m \u001b[0;34m\u001b[0m\u001b[0m\n",
            "\u001b[0;31mKeyboardInterrupt\u001b[0m: "
          ]
        }
      ]
    },
    {
      "cell_type": "code",
      "source": [],
      "metadata": {
        "id": "bUcKNPWf71VP"
      },
      "execution_count": null,
      "outputs": []
    }
  ],
  "metadata": {
    "colab": {
      "gpuType": "T4",
      "provenance": []
    },
    "kernelspec": {
      "display_name": "Python 3",
      "name": "python3"
    },
    "language_info": {
      "codemirror_mode": {
        "name": "ipython",
        "version": 3
      },
      "file_extension": ".py",
      "mimetype": "text/x-python",
      "name": "python",
      "nbconvert_exporter": "python",
      "pygments_lexer": "ipython3",
      "version": "3.10.12"
    },
    "accelerator": "GPU"
  },
  "nbformat": 4,
  "nbformat_minor": 0
}