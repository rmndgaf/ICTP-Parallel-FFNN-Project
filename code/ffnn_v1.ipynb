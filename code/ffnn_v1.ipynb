{
  "cells": [
    {
      "cell_type": "code",
      "execution_count": 1,
      "metadata": {
        "id": "YXgX0NF8OMjJ",
        "outputId": "9c93171a-a675-44fe-b6d1-667df14ee9cf",
        "colab": {
          "base_uri": "https://localhost:8080/"
        }
      },
      "outputs": [
        {
          "output_type": "stream",
          "name": "stdout",
          "text": [
            "Requirement already satisfied: numpy in /usr/local/lib/python3.10/dist-packages (1.25.2)\n",
            "Requirement already satisfied: pandas in /usr/local/lib/python3.10/dist-packages (2.0.3)\n",
            "Requirement already satisfied: python-dateutil>=2.8.2 in /usr/local/lib/python3.10/dist-packages (from pandas) (2.8.2)\n",
            "Requirement already satisfied: pytz>=2020.1 in /usr/local/lib/python3.10/dist-packages (from pandas) (2023.4)\n",
            "Requirement already satisfied: tzdata>=2022.1 in /usr/local/lib/python3.10/dist-packages (from pandas) (2024.1)\n",
            "Requirement already satisfied: numpy>=1.21.0 in /usr/local/lib/python3.10/dist-packages (from pandas) (1.25.2)\n",
            "Requirement already satisfied: six>=1.5 in /usr/local/lib/python3.10/dist-packages (from python-dateutil>=2.8.2->pandas) (1.16.0)\n"
          ]
        }
      ],
      "source": [
        "!pip install numpy\n",
        "!pip install pandas"
      ]
    },
    {
      "cell_type": "code",
      "execution_count": 2,
      "metadata": {
        "id": "3vbncErZOMjK"
      },
      "outputs": [],
      "source": [
        "import numpy as np\n",
        "import math\n",
        "\n",
        "# Implementation of a Node\n",
        "# A node should be able to take an input vector (which is either the input or the previous layer)\n",
        "# Sum the values from the previous node\n",
        "# Pass the sum to an activation value\n",
        "# Return the value as its own value\n",
        "\n",
        "class node(object):\n",
        "  def __init__(self, inputVec = [], weight = [], activation = None):\n",
        "    # Number of Inputs\n",
        "    self.inputVector = inputVec\n",
        "    self.nodeWeights = weight\n",
        "    self.actSelect = activation\n",
        "    self.bias = np.random.rand()\n",
        "\n",
        "    # Summation of Connected Notes\n",
        "    self.nodeSum = self.summationNodes()\n",
        "\n",
        "    # Activation function\n",
        "    self.nodeVal = self.activation()\n",
        "\n",
        "  # Parallelizable for all input values\n",
        "  def summationNodes(self):\n",
        "    sumOfVec = 0\n",
        "    for (i, j) in zip(self.inputVector, self.nodeWeights):\n",
        "        sumOfVec = sumOfVec + i * j\n",
        "    return (sumOfVec + self.bias)\n",
        "\n",
        "  def activation(self):\n",
        "    if (self.actSelect == \"sigmoid\"):\n",
        "      return (1 / (1 + pow(math.e, -self.nodeSum)))\n",
        "\n",
        "    if (self.actSelect == \"relu\"):\n",
        "      return (max(0.1*self.nodeSum, self.nodeSum))"
      ]
    },
    {
      "cell_type": "code",
      "execution_count": 3,
      "metadata": {
        "id": "ix53YnD_OMjL"
      },
      "outputs": [],
      "source": [
        "# For the mutli-layer perceptron\n",
        "# We should first be able to store the input vector in an array\n",
        "# Create N (user-defined number) nodes\n",
        "# Allow users to add layers with custom nodes as a method of the class\n",
        "# The output node automatically implements\n",
        "\n",
        "class mlp(node):\n",
        "\n",
        "  def __init__ (self):\n",
        "\n",
        "    # We simulate the input layer here by storing each value\n",
        "    # in the input as an element of a vector\n",
        "    self.inputSize = None\n",
        "    self.outputClass = []\n",
        "    self.inputVector = [] # This is the vector we pass to the first hidden layer\n",
        "    self.outputVal = None\n",
        "    self.outputIndex = None\n",
        "\n",
        "  def activate(self, inputVector, numClass):\n",
        "\n",
        "    # We simulate the input layer here by storing each value\n",
        "    # in the input as an element of a vector\n",
        "    self.inputSize = len(inputVector)\n",
        "    self.outputClass = numClass\n",
        "    self.inputVector = inputVector # This is the vector we pass to the first hidden layer\n",
        "\n",
        "    # Simulate hidden later\n",
        "    layer1 = self.addLayer(numNodes = 10, prevLayer = self.inputVector)\n",
        "    layer2 = self.addLayer(numNodes = 10, prevLayer = layer1)\n",
        "    layer3 = self.addLayer(numNodes = 10, prevLayer = layer2)\n",
        "    layer4 = self.addLayer(numNodes = 5, prevLayer = layer3)\n",
        "    self.outputVal, self.outputIndex = self.outputLayer(layer4)\n",
        "\n",
        "  # This intendeds to simulate the hidden layers\n",
        "  def addLayer(self, numNodes = None, prevLayer = None):\n",
        "    #weights = [np.random.rand() for i in range(len(inputVector))]\n",
        "\n",
        "    if numNodes == None:\n",
        "      numNodes = self.inputSize\n",
        "\n",
        "    nextLayer = []\n",
        "    for i in range(numNodes):\n",
        "      # Create the nodes\n",
        "      nextLayer.append(node(self.inputVector, [np.random.rand() for j in range(len(self.inputVector))], activation='relu'))\n",
        "\n",
        "    outputValues = []\n",
        "    for i in nextLayer:\n",
        "      i.summationNodes()\n",
        "      i.activation()\n",
        "      outputValues.append(i.nodeVal)\n",
        "\n",
        "    return outputValues\n",
        "\n",
        "  def outputLayer(self, lastHidden):\n",
        "    outLayer = []\n",
        "    for i in range(self.outputClass):\n",
        "      outLayer.append(node(lastHidden, [np.random.rand() for j in range(len(self.inputVector))], activation='sigmoid'))\n",
        "\n",
        "    endVals = []\n",
        "    for i in range(self.outputClass):\n",
        "      endVals.append(outLayer[i].nodeVal)\n",
        "      #print(\"Class \", i, \" : \", outLayer[i].nodeVal)\n",
        "\n",
        "    return max(endVals), endVals.index(max(endVals))\n",
        "\n",
        "  def printResult(self):\n",
        "    print(\"Predicted Class: \", self. outputIndex)\n",
        "\n",
        "  def getPrediction(self):\n",
        "    return self.outputIndex"
      ]
    },
    {
      "cell_type": "markdown",
      "metadata": {
        "id": "hMwSVNr6OMjL"
      },
      "source": [
        "# Sample with the Iris Dataset"
      ]
    },
    {
      "cell_type": "code",
      "execution_count": 4,
      "metadata": {
        "id": "vDeWLDQ6OMjM",
        "outputId": "695a24ab-61ca-45a4-c0e8-654e89e64aa3",
        "colab": {
          "base_uri": "https://localhost:8080/"
        }
      },
      "outputs": [
        {
          "output_type": "stream",
          "name": "stdout",
          "text": [
            "Collecting ucimlrepo\n",
            "  Downloading ucimlrepo-0.0.6-py3-none-any.whl (8.0 kB)\n",
            "Installing collected packages: ucimlrepo\n",
            "Successfully installed ucimlrepo-0.0.6\n"
          ]
        }
      ],
      "source": [
        "# Loading the IRIS Dataset for Classification\n",
        "!pip install ucimlrepo\n",
        "import pandas as pd\n",
        "import numpy as np\n",
        "from ucimlrepo import fetch_ucirepo\n",
        "\n",
        "# fetch dataset\n",
        "iris = fetch_ucirepo(id=53)\n",
        "\n",
        "# data (as pandas dataframes)\n",
        "df_X = iris.data.features\n",
        "df_y = iris.data.targets\n",
        "\n",
        "df_X = pd.DataFrame(df_X)\n",
        "#df_X.head()\n",
        "\n",
        "df_y = pd.DataFrame(df_y)\n",
        "#df_y.head()"
      ]
    },
    {
      "cell_type": "code",
      "execution_count": 5,
      "metadata": {
        "id": "3QyUbwVTOMjM",
        "outputId": "c79c1063-567c-42c3-ece9-d535ae470bc8",
        "colab": {
          "base_uri": "https://localhost:8080/"
        }
      },
      "outputs": [
        {
          "output_type": "stream",
          "name": "stdout",
          "text": [
            "<class 'pandas.core.frame.DataFrame'>\n",
            "RangeIndex: 150 entries, 0 to 149\n",
            "Data columns (total 4 columns):\n",
            " #   Column        Non-Null Count  Dtype  \n",
            "---  ------        --------------  -----  \n",
            " 0   sepal length  150 non-null    float64\n",
            " 1   sepal width   150 non-null    float64\n",
            " 2   petal length  150 non-null    float64\n",
            " 3   petal width   150 non-null    float64\n",
            "dtypes: float64(4)\n",
            "memory usage: 4.8 KB\n",
            "<class 'pandas.core.frame.DataFrame'>\n",
            "RangeIndex: 150 entries, 0 to 149\n",
            "Data columns (total 1 columns):\n",
            " #   Column  Non-Null Count  Dtype \n",
            "---  ------  --------------  ----- \n",
            " 0   class   150 non-null    object\n",
            "dtypes: object(1)\n",
            "memory usage: 1.3+ KB\n",
            "     class\n",
            "0        0\n",
            "1        0\n",
            "2        0\n",
            "3        0\n",
            "4        0\n",
            "..     ...\n",
            "145      2\n",
            "146      2\n",
            "147      2\n",
            "148      2\n",
            "149      2\n",
            "\n",
            "[150 rows x 1 columns]\n"
          ]
        },
        {
          "output_type": "execute_result",
          "data": {
            "text/plain": [
              "class\n",
              "0        50\n",
              "1        50\n",
              "2        50\n",
              "Name: count, dtype: int64"
            ]
          },
          "metadata": {},
          "execution_count": 5
        }
      ],
      "source": [
        "# Perform some data wrangling/preparation\n",
        "\n",
        "# Check info on the attributes\n",
        "df_X.info() # All values are same type, check if any missing values\n",
        "df_X.isnull().sum() # To check if there are any null values\n",
        "\n",
        "# Checking the output\n",
        "df_y.info()\n",
        "\n",
        "# Object Types must be converted\n",
        "df_y_original = df_y.copy() # Store the df somewhere before modifying\n",
        "\n",
        "df_y.value_counts()\n",
        "\n",
        "# Reveals Three Classes\n",
        "# Map classes to corresponding numerical values\n",
        "\n",
        "outMap = {'Iris-setosa':0, 'Iris-versicolor':1, 'Iris-virginica':2}\n",
        "df_y.replace(outMap, inplace=True)\n",
        "\n",
        "print(df_y)\n",
        "df_y.value_counts()"
      ]
    },
    {
      "cell_type": "markdown",
      "metadata": {
        "id": "BpNbdxWTOMjM"
      },
      "source": [
        "# Test out the CPU Model"
      ]
    },
    {
      "cell_type": "code",
      "source": [
        "import time"
      ],
      "metadata": {
        "id": "4O1wMlTjZ6jw"
      },
      "execution_count": 6,
      "outputs": []
    },
    {
      "cell_type": "code",
      "execution_count": 7,
      "metadata": {
        "id": "DEO3XYLlOMjN"
      },
      "outputs": [],
      "source": [
        "def testModel(model, inVector, appendList = []):\n",
        "  for i in inVector:\n",
        "    model.activate(i, 3)\n",
        "    appendList.append(model.getPrediction())"
      ]
    },
    {
      "cell_type": "code",
      "execution_count": 8,
      "metadata": {
        "id": "UU2euBKHOMjN",
        "colab": {
          "base_uri": "https://localhost:8080/"
        },
        "outputId": "2965ab53-2b3c-4327-b439-787fa916787c"
      },
      "outputs": [
        {
          "output_type": "stream",
          "name": "stdout",
          "text": [
            "Elapsed CPU:  0.05612945556640625\n"
          ]
        }
      ],
      "source": [
        "predictedVals = []\n",
        "model = mlp()\n",
        "\n",
        "start = time.time()\n",
        "testModel(model, np.array(df_X), predictedVals)\n",
        "end = time.time()\n",
        "print(\"Elapsed CPU: \", end-start)"
      ]
    },
    {
      "cell_type": "code",
      "execution_count": 9,
      "metadata": {
        "id": "EzmrjTQ4OMjN",
        "outputId": "d9ebed2e-92b6-4915-eb76-1ab731ef6604",
        "colab": {
          "base_uri": "https://localhost:8080/"
        }
      },
      "outputs": [
        {
          "output_type": "stream",
          "name": "stdout",
          "text": [
            "Correct Predictions / Total Predictions: 48 / 150 .\n",
            "Custom Feedforward Neural Network is: 32 % Accurate\n"
          ]
        }
      ],
      "source": [
        "trueOutput = np.array(df_y)\n",
        "\n",
        "correctPreds, totalPreds = 0, len(trueOutput)\n",
        "for i in range(totalPreds):\n",
        "  if predictedVals[i] == trueOutput[i]:\n",
        "    correctPreds = correctPreds + 1\n",
        "\n",
        "print(\"Correct Predictions / Total Predictions: {} / {} .\".format(correctPreds, totalPreds))\n",
        "print(\"Custom Feedforward Neural Network is: {} % Accurate\".format(round(correctPreds/totalPreds * 100), 2))"
      ]
    },
    {
      "cell_type": "markdown",
      "metadata": {
        "id": "JzonciwQOMjN"
      },
      "source": [
        "# Implementation using reductionKernel"
      ]
    },
    {
      "cell_type": "code",
      "execution_count": 10,
      "metadata": {
        "id": "z1LansRWOMjN",
        "colab": {
          "base_uri": "https://localhost:8080/",
          "height": 863
        },
        "outputId": "6da52dbe-7862-44cf-a604-613e84421e68"
      },
      "outputs": [
        {
          "output_type": "error",
          "ename": "ImportError",
          "evalue": "\n================================================================\nFailed to import CuPy.\n\nIf you installed CuPy via wheels (cupy-cudaXXX or cupy-rocm-X-X), make sure that the package matches with the version of CUDA or ROCm installed.\n\nOn Linux, you may need to set LD_LIBRARY_PATH environment variable depending on how you installed CUDA/ROCm.\nOn Windows, try setting CUDA_PATH environment variable.\n\nCheck the Installation Guide for details:\n  https://docs.cupy.dev/en/latest/install.html\n\nOriginal error:\n  ImportError: libcuda.so.1: cannot open shared object file: No such file or directory\n================================================================\n",
          "traceback": [
            "\u001b[0;31m---------------------------------------------------------------------------\u001b[0m",
            "\u001b[0;31mImportError\u001b[0m                               Traceback (most recent call last)",
            "\u001b[0;32m/usr/local/lib/python3.10/dist-packages/cupy/__init__.py\u001b[0m in \u001b[0;36m<module>\u001b[0;34m\u001b[0m\n\u001b[1;32m     16\u001b[0m \u001b[0;32mtry\u001b[0m\u001b[0;34m:\u001b[0m\u001b[0;34m\u001b[0m\u001b[0;34m\u001b[0m\u001b[0m\n\u001b[0;32m---> 17\u001b[0;31m     \u001b[0;32mfrom\u001b[0m \u001b[0mcupy\u001b[0m \u001b[0;32mimport\u001b[0m \u001b[0m_core\u001b[0m  \u001b[0;31m# NOQA\u001b[0m\u001b[0;34m\u001b[0m\u001b[0;34m\u001b[0m\u001b[0m\n\u001b[0m\u001b[1;32m     18\u001b[0m \u001b[0;32mexcept\u001b[0m \u001b[0mImportError\u001b[0m \u001b[0;32mas\u001b[0m \u001b[0mexc\u001b[0m\u001b[0;34m:\u001b[0m\u001b[0;34m\u001b[0m\u001b[0;34m\u001b[0m\u001b[0m\n",
            "\u001b[0;32m/usr/local/lib/python3.10/dist-packages/cupy/_core/__init__.py\u001b[0m in \u001b[0;36m<module>\u001b[0;34m\u001b[0m\n\u001b[1;32m      2\u001b[0m \u001b[0;34m\u001b[0m\u001b[0m\n\u001b[0;32m----> 3\u001b[0;31m \u001b[0;32mfrom\u001b[0m \u001b[0mcupy\u001b[0m\u001b[0;34m.\u001b[0m\u001b[0m_core\u001b[0m \u001b[0;32mimport\u001b[0m \u001b[0mcore\u001b[0m  \u001b[0;31m# NOQA\u001b[0m\u001b[0;34m\u001b[0m\u001b[0;34m\u001b[0m\u001b[0m\n\u001b[0m\u001b[1;32m      4\u001b[0m \u001b[0;32mfrom\u001b[0m \u001b[0mcupy\u001b[0m\u001b[0;34m.\u001b[0m\u001b[0m_core\u001b[0m \u001b[0;32mimport\u001b[0m \u001b[0mfusion\u001b[0m  \u001b[0;31m# NOQA\u001b[0m\u001b[0;34m\u001b[0m\u001b[0;34m\u001b[0m\u001b[0m\n",
            "\u001b[0;31mImportError\u001b[0m: libcuda.so.1: cannot open shared object file: No such file or directory",
            "\nThe above exception was the direct cause of the following exception:\n",
            "\u001b[0;31mImportError\u001b[0m                               Traceback (most recent call last)",
            "\u001b[0;32m<ipython-input-10-a843a951c855>\u001b[0m in \u001b[0;36m<cell line: 2>\u001b[0;34m()\u001b[0m\n\u001b[1;32m      1\u001b[0m \u001b[0;31m# For implementation with CuPY\u001b[0m\u001b[0;34m\u001b[0m\u001b[0;34m\u001b[0m\u001b[0m\n\u001b[0;32m----> 2\u001b[0;31m \u001b[0;32mimport\u001b[0m \u001b[0mcupy\u001b[0m \u001b[0;32mas\u001b[0m \u001b[0mcp\u001b[0m\u001b[0;34m\u001b[0m\u001b[0;34m\u001b[0m\u001b[0m\n\u001b[0m",
            "\u001b[0;32m/usr/local/lib/python3.10/dist-packages/cupy/__init__.py\u001b[0m in \u001b[0;36m<module>\u001b[0;34m\u001b[0m\n\u001b[1;32m     17\u001b[0m     \u001b[0;32mfrom\u001b[0m \u001b[0mcupy\u001b[0m \u001b[0;32mimport\u001b[0m \u001b[0m_core\u001b[0m  \u001b[0;31m# NOQA\u001b[0m\u001b[0;34m\u001b[0m\u001b[0;34m\u001b[0m\u001b[0m\n\u001b[1;32m     18\u001b[0m \u001b[0;32mexcept\u001b[0m \u001b[0mImportError\u001b[0m \u001b[0;32mas\u001b[0m \u001b[0mexc\u001b[0m\u001b[0;34m:\u001b[0m\u001b[0;34m\u001b[0m\u001b[0;34m\u001b[0m\u001b[0m\n\u001b[0;32m---> 19\u001b[0;31m     raise ImportError(f'''\n\u001b[0m\u001b[1;32m     20\u001b[0m \u001b[0;34m==\u001b[0m\u001b[0;34m==\u001b[0m\u001b[0;34m==\u001b[0m\u001b[0;34m==\u001b[0m\u001b[0;34m==\u001b[0m\u001b[0;34m==\u001b[0m\u001b[0;34m==\u001b[0m\u001b[0;34m==\u001b[0m\u001b[0;34m==\u001b[0m\u001b[0;34m==\u001b[0m\u001b[0;34m==\u001b[0m\u001b[0;34m==\u001b[0m\u001b[0;34m==\u001b[0m\u001b[0;34m==\u001b[0m\u001b[0;34m==\u001b[0m\u001b[0;34m==\u001b[0m\u001b[0;34m==\u001b[0m\u001b[0;34m==\u001b[0m\u001b[0;34m==\u001b[0m\u001b[0;34m==\u001b[0m\u001b[0;34m==\u001b[0m\u001b[0;34m==\u001b[0m\u001b[0;34m==\u001b[0m\u001b[0;34m==\u001b[0m\u001b[0;34m==\u001b[0m\u001b[0;34m==\u001b[0m\u001b[0;34m==\u001b[0m\u001b[0;34m==\u001b[0m\u001b[0;34m==\u001b[0m\u001b[0;34m==\u001b[0m\u001b[0;34m==\u001b[0m\u001b[0;34m==\u001b[0m\u001b[0;34m\u001b[0m\u001b[0;34m\u001b[0m\u001b[0m\n\u001b[1;32m     21\u001b[0m \u001b[0;34m{\u001b[0m\u001b[0m_environment\u001b[0m\u001b[0;34m.\u001b[0m\u001b[0m_diagnose_import_error\u001b[0m\u001b[0;34m(\u001b[0m\u001b[0;34m)\u001b[0m\u001b[0;34m}\u001b[0m\u001b[0;34m\u001b[0m\u001b[0;34m\u001b[0m\u001b[0m\n",
            "\u001b[0;31mImportError\u001b[0m: \n================================================================\nFailed to import CuPy.\n\nIf you installed CuPy via wheels (cupy-cudaXXX or cupy-rocm-X-X), make sure that the package matches with the version of CUDA or ROCm installed.\n\nOn Linux, you may need to set LD_LIBRARY_PATH environment variable depending on how you installed CUDA/ROCm.\nOn Windows, try setting CUDA_PATH environment variable.\n\nCheck the Installation Guide for details:\n  https://docs.cupy.dev/en/latest/install.html\n\nOriginal error:\n  ImportError: libcuda.so.1: cannot open shared object file: No such file or directory\n================================================================\n",
            "",
            "\u001b[0;31m---------------------------------------------------------------------------\u001b[0;32m\nNOTE: If your import is failing due to a missing package, you can\nmanually install dependencies using either !pip or !apt.\n\nTo view examples of installing some common dependencies, click the\n\"Open Examples\" button below.\n\u001b[0;31m---------------------------------------------------------------------------\u001b[0m\n"
          ],
          "errorDetails": {
            "actions": [
              {
                "action": "open_url",
                "actionText": "Open Examples",
                "url": "/notebooks/snippets/importing_libraries.ipynb"
              }
            ]
          }
        }
      ],
      "source": [
        "# For implementation with CuPY\n",
        "import cupy as cp"
      ]
    },
    {
      "cell_type": "code",
      "execution_count": null,
      "metadata": {
        "id": "fD-k6mclOMjO"
      },
      "outputs": [],
      "source": [
        "# Reduction Kernel per Node\n",
        "nodeSum_kernel = cp.ReductionKernel(\n",
        "    'T inputVec, U inputWeight',  # input params\n",
        "    'T outputVec',  # output params\n",
        "    'inputVec * inputWeight',  # map\n",
        "    'a + b',  # reduce\n",
        "    'outputVec = a',  # post-reduction map\n",
        "    '0',  # identity value\n",
        "    'nodeSum_kernel'  # kernel name\n",
        ")\n",
        "\n",
        "# Activation Function Kernel\n",
        "activation_func = cp.RawKernel(r'''\n",
        "extern \"C\" __global__\n",
        "void activation_func(float* newLayer, const int choice) {\n",
        "    int tid = blockDim.x * blockIdx.x + threadIdx.x;\n",
        "\n",
        "    if (choice == 1) newLayer[tid] = (1 / (1 + pow(EULER_NUMBER, -1 * newLayer[tid]))\n",
        "    if (choice == 2) newLayer[tid] = max(0.1 * newLayer[tid], newLayer[tid])\n",
        "}\n",
        "''', 'activation_func')\n",
        "\n",
        "\n",
        "class MLPcupy():\n",
        "\n",
        "  def __init__ (self):\n",
        "    # We simulate the input layer here by storing each value\n",
        "    # in the input as an element of a vector\n",
        "    self.inputSize = None\n",
        "    self.outputClass = []\n",
        "    self.inputVector = [] # This is the vector we pass to the first hidden layer\n",
        "    self.outputVal = None\n",
        "    self.outputIndex = None\n",
        "\n",
        "  def activate(self, inputVector, numClass):\n",
        "  # For now, this is just forward propagation\n",
        "\n",
        "    # We simulate the input layer here by storing each value\n",
        "    # in the input as an element of a vector\n",
        "    self.inputSize = len(inputVector)\n",
        "    self.outputClass = numClass\n",
        "    self.inputVector = inputVector # This is the vector we pass to the first hidden layer\n",
        "\n",
        "    # Simulate hidden later\n",
        "    layer1 = self.addLayer(numNodes = 10, prevLayer = self.inputVector, activation = \"relu\")\n",
        "    #print(layer1)\n",
        "    layer2 = self.addLayer(numNodes = 10, prevLayer = layer1, activation = \"relu\")\n",
        "    #print(layer2)\n",
        "    layer3 = self.addLayer(numNodes = 10, prevLayer = layer2, activation = \"relu\")\n",
        "    #print(layer3)\n",
        "    layer4 = self.addLayer(numNodes = 5, prevLayer = layer3, activation = \"relu\")\n",
        "    #print(layer4)\n",
        "\n",
        "    # Simulate output layer\n",
        "    self.outputIndex = self.outputLayer(layer4)\n",
        "\n",
        "  # This intendeds to simulate the hidden layers\n",
        "  def addLayer(self, numNodes = None, prevLayer = None, activation = \"\"):\n",
        "\n",
        "    if numNodes == None:\n",
        "      print(\"Indicate number of Nodes.\")\n",
        "      return\n",
        "\n",
        "    # This will be where we store the new values\n",
        "    newLayer = cp.zeros(numNodes)\n",
        "    nodeValue = cp.zeros(len(prevLayer))\n",
        "\n",
        "    for i in range(numNodes):\n",
        "    # add_kernel(grid_size, block_size, (x1, x2, y, size))\n",
        "    # nodeSum_kernel(const float* inputVector, const float* layerWeights, float* outputNode, const float* bias)\n",
        "      #print(\"Nodes: \", prevLayer)\n",
        "      weights = cp.array([cp.random.random() for i in range(len(prevLayer))])\n",
        "      #print(\"Weights: \", weights)\n",
        "      bias = cp.random.random()\n",
        "      #print(\"Bias: \", bias)\n",
        "\n",
        "      newLayer[i] = nodeSum_kernel(cp.array(prevLayer), cp.array(weights), cp.random.random()) + bias\n",
        "      #print(\"Node \", i, \" : \", newLayer[i])\n",
        "\n",
        "\"\"\"\n",
        "      if (activation == \"sigmoid\"):\n",
        "        newLayer[i] = (1 / (1 + pow(math.e, -1 * newLayer[i])))\n",
        "\n",
        "      elif (activation == \"relu\"):\n",
        "        newLayer[i] = (max(0.1*newLayer[i], newLayer[i]))\n",
        "\n",
        "      else:\n",
        "        print(\"ERROR: Invalid Choice.\")\n",
        "        return 0\n",
        "\"\"\"\n",
        "    #activation_func(float* newLayer, const int choice)\n",
        "    if activation == \"sigmoid\": activation = 1\n",
        "    elif activation == \"relu\": activation = 2\n",
        "    actFunc(newLayer, activation)\n",
        "\n",
        "    return newLayer\n",
        "\n",
        "  def outputLayer(self, lastHidden):\n",
        "    outLayer = []\n",
        "    for i in range(self.outputClass):\n",
        "      outLayer.append(node(lastHidden, [cp.random.random() for j in range(len(self.inputVector))], activation='sigmoid'))\n",
        "\n",
        "    endVals = []\n",
        "    for i in range(self.outputClass):\n",
        "      endVals.append(outLayer[i].nodeVal)\n",
        "      #print(\"Class \", i, \" : \", outLayer[i].nodeVal)\n",
        "\n",
        "    return endVals.index(max(endVals))\n",
        "\n",
        "  def printResult(self):\n",
        "    print(\"Predicted Class: \", self. outputIndex)\n",
        "\n",
        "  def getPrediction(self):\n",
        "    return self.outputIndex"
      ]
    },
    {
      "cell_type": "markdown",
      "source": [
        "# Testing CuPy Model"
      ],
      "metadata": {
        "id": "4LhtMsnMOTkT"
      }
    },
    {
      "cell_type": "code",
      "source": [
        "model2 = MLPcupy()\n",
        "outputCuPy = cp.zeros(len(df_X))"
      ],
      "metadata": {
        "id": "iadSlgpiOUKo"
      },
      "execution_count": null,
      "outputs": []
    },
    {
      "cell_type": "code",
      "source": [
        "def testGPUModel(model, inVector, outClasses, appendList = []):\n",
        "  for i in range(len(inVector)):\n",
        "    model.activate(cp.array(inVector[i]), outClasses)\n",
        "    appendList[i] = model.getPrediction()"
      ],
      "metadata": {
        "id": "nsd0LJSSYdTN"
      },
      "execution_count": null,
      "outputs": []
    },
    {
      "cell_type": "code",
      "source": [
        "start_gpu = cp.cuda.Event()\n",
        "end_gpu = cp.cuda.Event()\n",
        "start_gpu.record()\n",
        "testGPUModel(model2, cp.array(df_X), 3, outputCuPy)\n",
        "end_cupy = time.time()\n",
        "print(\"Elapsed GPU: \", end_cupy - start_cupy)"
      ],
      "metadata": {
        "id": "dly1_APuYmGT"
      },
      "execution_count": null,
      "outputs": []
    },
    {
      "cell_type": "code",
      "source": [
        "trueOutput = np.array(df_y)\n",
        "predictedCuPy = np.array(outputCuPy.get())\n",
        "\n",
        "correctPreds, totalPreds = 0, len(trueOutput)\n",
        "for i in range(totalPreds):\n",
        "  if predictedCuPy[i] == trueOutput[i]:\n",
        "    correctPreds = correctPreds + 1\n",
        "\n",
        "print(\"Correct Predictions / Total Predictions: {} / {} .\".format(correctPreds, totalPreds))\n",
        "print(\"Custom Feedforward Neural Network is: {} % Accurate\".format(round(correctPreds/totalPreds * 100), 2))"
      ],
      "metadata": {
        "id": "J_TGNDRgYQtJ"
      },
      "execution_count": null,
      "outputs": []
    },
    {
      "cell_type": "code",
      "source": [],
      "metadata": {
        "id": "aOdB-cq3faJI"
      },
      "execution_count": null,
      "outputs": []
    },
    {
      "cell_type": "code",
      "source": [],
      "metadata": {
        "id": "5Hgdy5dmS6W6"
      },
      "execution_count": null,
      "outputs": []
    }
  ],
  "metadata": {
    "kernelspec": {
      "display_name": "Python 3",
      "name": "python3"
    },
    "language_info": {
      "codemirror_mode": {
        "name": "ipython",
        "version": 3
      },
      "file_extension": ".py",
      "mimetype": "text/x-python",
      "name": "python",
      "nbconvert_exporter": "python",
      "pygments_lexer": "ipython3",
      "version": "3.10.13"
    },
    "colab": {
      "provenance": [],
      "gpuType": "T4"
    },
    "accelerator": "GPU"
  },
  "nbformat": 4,
  "nbformat_minor": 0
}